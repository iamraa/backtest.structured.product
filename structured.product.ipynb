{
 "cells": [
  {
   "cell_type": "markdown",
   "metadata": {},
   "source": [
    "# Тестирование структурных продуктов\n",
    "\n",
    "Идея: https://habr.com/ru/company/iticapital/blog/461421/\n",
    "\n",
    "* Ребалансировка раз в год (или по желанию).\n",
    "* Один низкорискованный продукт, один высокорискованный (состав может быть любой).\n",
    "* Стоп на просадке любого актива до конца периода (года)."
   ]
  },
  {
   "cell_type": "code",
   "execution_count": 1,
   "metadata": {},
   "outputs": [],
   "source": [
    "import io\n",
    "import pandas as pd\n",
    "import numpy as np\n",
    "import matplotlib.pyplot as plt\n",
    "from datetime import date, timedelta\n",
    "import requests\n",
    "import tqdm"
   ]
  },
  {
   "cell_type": "markdown",
   "metadata": {},
   "source": [
    "## Данные\n",
    "\n",
    "Ключ необходимо получить на AlphaAdvantage (https://www.alphavantage.co/support/#api-key). Система имеет ограничения на скачивание данных. Не более 5ти тикеров в минуту."
   ]
  },
  {
   "cell_type": "code",
   "execution_count": 2,
   "metadata": {},
   "outputs": [
    {
     "data": {
      "text/plain": [
       "16"
      ]
     },
     "execution_count": 2,
     "metadata": {},
     "output_type": "execute_result"
    }
   ],
   "source": [
    "try:\n",
    "    with open('aa.key', 'r') as f:\n",
    "        aa_api = f.read()\n",
    "except:\n",
    "    print('ERROR: Файл aa.key не найден. Получите ключ и создайте его.')\n",
    "    \n",
    "len(aa_api)"
   ]
  },
  {
   "cell_type": "code",
   "execution_count": 3,
   "metadata": {},
   "outputs": [],
   "source": [
    "url_tpl = 'https://www.alphavantage.co/query?function=TIME_SERIES_DAILY_ADJUSTED' \\\n",
    "          '&symbol={symbol}&apikey={aa_api}&datatype=csv&outputsize=full'\n",
    "\n",
    "def prices(symbols, is_adjust=True):  # получение цен для нескольких тикеров за последние 5 лет\n",
    "    df = None\n",
    "    for s in symbols:  # делаем запрос цен для каждого тикера\n",
    "        r = requests.get(url_tpl.format(symbol=s, aa_api=aa_api)) \n",
    "        if r.status_code == 200:  # проверяем корректный код ответа сервера\n",
    "            data = pd.read_csv(io.StringIO(r.content.decode('UTF-8'))); data['symbol'] = s  # создаем pandas.DataFrame и присваиваем тикер\n",
    "            if df is None:\n",
    "                df = data  # присваиваем первый DataFrame\n",
    "            else:\n",
    "                df = pd.concat([df, data])  # соединяем последующие DataFrame\n",
    "    df['dt'] = pd.to_datetime(df['timestamp'])  # конвертируем строковое поле в дату\n",
    "    \n",
    "    if is_adjust:\n",
    "        # adjusting prices with splits & dividends\n",
    "        ratio = df.adjusted_close / df.close\n",
    "        df['open'] *= ratio\n",
    "        df['high'] *= ratio\n",
    "        df['low'] *= ratio\n",
    "        df['close'] *= ratio\n",
    "        df['volume'] = (df['volume'] / ratio).astype(int)\n",
    "    \n",
    "    columns = ['dt', 'symbol', 'open', 'high', 'low', 'close', 'volume']  # сотавляем нужные колонки\n",
    "    return df[columns].set_index(['dt', 'symbol'], drop=False).sort_index()  # создаём индекс и сортируем"
   ]
  },
  {
   "cell_type": "markdown",
   "metadata": {},
   "source": [
    "## Минимальные даты\n",
    "\n",
    "Дата начала доступной истории цен."
   ]
  },
  {
   "cell_type": "code",
   "execution_count": 4,
   "metadata": {},
   "outputs": [
    {
     "data": {
      "text/plain": [
       "symbol\n",
       "BIL    2007-05-30\n",
       "MINT   2009-11-17\n",
       "Name: dt, dtype: datetime64[ns]"
      ]
     },
     "execution_count": 4,
     "metadata": {},
     "output_type": "execute_result"
    }
   ],
   "source": [
    "def minimal_dates(prices):\n",
    "    # show start dates\n",
    "    return df.groupby(level=1).dt.min().sort_values()\n",
    "    \n",
    "    \n",
    "SYMBOLS = ['MINT', 'BIL']\n",
    "\n",
    "df = prices(SYMBOLS)\n",
    "minimal_dates(df)"
   ]
  },
  {
   "cell_type": "markdown",
   "metadata": {},
   "source": [
    "# Алгоритм последовательного тестирования"
   ]
  },
  {
   "cell_type": "code",
   "execution_count": 5,
   "metadata": {},
   "outputs": [],
   "source": [
    "def allow_default(df):\n",
    "    \"\"\"\n",
    "    Разрешение ребалансировки активов в любой момент\n",
    "    \"\"\"\n",
    "    df['allow'] = True\n",
    "    return df"
   ]
  },
  {
   "cell_type": "code",
   "execution_count": 6,
   "metadata": {},
   "outputs": [],
   "source": [
    "from tools import performance, drawdown, rate_for_period, Schedule\n",
    "\n",
    "\n",
    "class StructuredProductMill(object):\n",
    "    def __init__(self, params, prices=None, show_progress=False):\n",
    "        self.params = params\n",
    "        \n",
    "        self._cash = params['balance']  # начинаем с доступного кэша\n",
    "        self._stop_loss = params.get('stop_loss', None)  # размер стоп-лосса для закрытия позиции\n",
    "        # сбрасывать цену покупки на ребалансировке для стопа\n",
    "        self._reset_position_prices = params.get('reset_position_prices', False)\n",
    "        self._date = params.get('start')  # дата начала теста\n",
    "\n",
    "        self._prices = prices if prices is not None else pd.DataFrame()\n",
    "        self._schedule = pd.DataFrame()\n",
    "        \n",
    "        # открытые позиции\n",
    "        self._positions = pd.DataFrame([], columns=['symbol', 'quantity', 'amount', 'open_dt'])\n",
    "        # история сделок\n",
    "        self._trades = pd.DataFrame([], columns=['dt', 'symbol', 'quantity', 'price', 'commission', 'amount', 'type'])\n",
    "        # кривая доходности: баланс, рыночная стоимость позиций, кэш\n",
    "        self._equity = pd.DataFrame([], columns=['dt', 'balance', 'free', 'positions'])\n",
    "        \n",
    "        self.show_progress = show_progress\n",
    "\n",
    "    def check_params(self):\n",
    "        \"\"\"\n",
    "        Проверка настроек перед запуском\n",
    "        \"\"\"\n",
    "        if len(self.params['portfolio']) < 1:\n",
    "            raise Exception('Symbols in portfolio are not found.')\n",
    "        elif self.params['balance'] < 5_000:\n",
    "            raise Exception('Too low start balance.')\n",
    "        elif self.params['freq'] not in ['week', 'month', 'year']:\n",
    "            raise Exception('Rebalance frequency has to equal: week, month, year')\n",
    "        \n",
    "        return self\n",
    "    \n",
    "    def prepare(self):\n",
    "        \"\"\"\n",
    "        Подготовка параметров для тестирования\n",
    "        \"\"\"\n",
    "        # compute allow column\n",
    "        if self.params['allow_method']:\n",
    "            self.params['allow_method'](self._prices)\n",
    "        \n",
    "        # set portfolio parts\n",
    "        for s, pct in self.params['portfolio'].items():\n",
    "            self._prices.loc[(slice(None), [s]), 'size'] = pct\n",
    "        \n",
    "        # установка даты старта тестирования по доступной истории активов\n",
    "        most_older = self._prices.groupby(level=1).dt.min().min()\n",
    "        if self._date < most_older:\n",
    "            print(f'INFO: Set start at: {most_older}')\n",
    "            self._date = most_older\n",
    "                \n",
    "        # create rebalance schedule        \n",
    "        sch = Schedule(self._date.date(), self._prices.index.levels[0].max().date(), \n",
    "                       dates=self._prices.index.levels[0])\n",
    "        self._schedule = sch.mark_rebalance_days(self.params.get('rebalance_day', 0), \n",
    "                                                 self.params.get('freq', ''))\n",
    "        \n",
    "        # группировка цен по дням с даты старта\n",
    "        fltr = slice(self._date, None) if self._date else slice() \n",
    "        self._grouped = self._prices[fltr].groupby(level=0)\n",
    "    \n",
    "    def rebalance(self, day, only_buy=False, reset_prices=True):\n",
    "        \"\"\"\n",
    "        Основной метод ребалансировки, который вызывается в соответствии расписанию\n",
    "        \n",
    "        :param day: цены для всех доступных активов на дату\n",
    "        :param only_buy: разрешено только докупать позиции\n",
    "        :param reset_prices: обнуление цен закупки в момент ребалансировки для работы стопов\n",
    "        \"\"\"\n",
    "        # получаем капитал: свободный кэш и рыночную стоимость позиций\n",
    "        balance = self._cash + self.position_balance(day)\n",
    "        \n",
    "        # объединяем позиции с текущим днём из истории цен\n",
    "        df = day.merge(self._positions[['quantity']], how='left', left_index=True, right_index=True)\n",
    "\n",
    "        day['position'] = df['quantity'].fillna(0)\n",
    "        day['position_to'] = 0\n",
    "        day['size_order'] = 0\n",
    "        \n",
    "        # только разрешённые активы\n",
    "        is_allow = day['allow'] == True\n",
    "        # объём в процентах от исходной доли в портфеле относительно всего объема доступных активов\n",
    "        day.loc[is_allow, 'size_order'] = day[is_allow]['size'] / day[is_allow]['size'].sum()\n",
    "        # распределяем капитал по активам по цене открытия\n",
    "        day['position_to'] = (balance * day['size_order']) // day['open']\n",
    "        # формируем приказы изменения позиций\n",
    "        day['order'] = day['position_to'] - day['position']\n",
    "        \n",
    "        # execute only buy trades\n",
    "        fltr = day['order'] > 0 if only_buy else day['order'] != 0\n",
    "        \n",
    "        for symbol, row in day[fltr].iterrows():\n",
    "            self.trade(row['dt'], symbol, row.order, row.open, 'O' if row.order > 0 else 'C')\n",
    "            \n",
    "        if reset_prices:\n",
    "            self._positions['price'] = self._positions['amount'] / self._positions['quantity']\n",
    "\n",
    "    @staticmethod\n",
    "    def commission(quantity):\n",
    "        \"\"\"\n",
    "        Compute commission by quantity:        \n",
    "        * 15 cents for every lot (100)\n",
    "        * 90 cents for every trade\n",
    "\n",
    "        :param quantity\n",
    "        \"\"\"\n",
    "        lots = int(abs(quantity) / 100) + 1\n",
    "        return lots * 0.15 + 0.9\n",
    "\n",
    "    def trade(self, dt, symbol, quantity, price, type_, note=None):\n",
    "        \"\"\"\n",
    "        Исполнение сделки:\n",
    "        * Проверка доступного баланса.\n",
    "        * Проверка открытых позиций.\n",
    "        * Обновление позиций.\n",
    "        * Расчёт средней цены закупки.\n",
    "        \"\"\"\n",
    "        # print(f'TRADE {note if note else \"\"}', dt.date(), symbol, quantity, price, type_)\n",
    "        if np.isnan(quantity):\n",
    "            print(dt, symbol, quantity, price, type_)\n",
    "        \n",
    "        idx = self._trades.index.max() + 1\n",
    "        idx = 0 if np.isnan(idx) else idx\n",
    "\n",
    "        comm = self.commission(quantity)\n",
    "        amount = quantity * price + comm\n",
    "        \n",
    "        # check balance\n",
    "        if self._cash < amount:\n",
    "            return False\n",
    "        \n",
    "        self._trades.loc[\n",
    "            idx,\n",
    "            ['dt', 'symbol', 'quantity', 'price', 'commission', 'amount', 'type']\n",
    "        ] = [pd.Timestamp(dt.date()), symbol, quantity, price, comm, -amount, type_]\n",
    "\n",
    "        # update positions\n",
    "        pos = self._positions\n",
    "        if symbol in self._positions.index:\n",
    "            pos.loc[symbol, 'quantity'] += quantity\n",
    "            if quantity > 0:\n",
    "                pos.loc[symbol, 'amount'] += amount\n",
    "            else:\n",
    "                pos.loc[symbol, 'amount'] = pos.loc[symbol, 'quantity'] * pos.loc[symbol, 'price']\n",
    "        else:\n",
    "            pos.loc[symbol, ['symbol', 'quantity', 'amount', 'open_dt']] = [symbol, quantity, amount, dt]\n",
    "\n",
    "        # avg price\n",
    "        pos['price'] = 0\n",
    "        fltr = pos['quantity'] != 0\n",
    "        pos.loc[fltr, 'price'] = pos[fltr]['amount'] / pos[fltr]['quantity']\n",
    "\n",
    "        # change cash\n",
    "        self._cash -= amount\n",
    "\n",
    "        # update positions\n",
    "        self._positions = pos[fltr]\n",
    "\n",
    "    def run(self):\n",
    "        \"\"\"\n",
    "        Основной метод тестирования:\n",
    "        * Последовательно проходим по каждому периоду.\n",
    "        * Ребалансируем, если разрешено.\n",
    "        * Мониторим стопы.\n",
    "        * Обновляем баланс в конце дня.\n",
    "        \"\"\"\n",
    "        # add progressbar\n",
    "        if self.show_progress:\n",
    "            progress = tqdm.tqdm(self._grouped.groups)\n",
    "        else:\n",
    "            progress = self._grouped.groups\n",
    "            \n",
    "        for group in progress:\n",
    "            if self._date and self._date >= group:\n",
    "                # skip checked dates\n",
    "                continue\n",
    "            \n",
    "            current_day = self._grouped.get_group(group)\n",
    "            current_day = current_day[~current_day['size'].isna()].set_index('symbol', drop=False)\n",
    "            self._date = current_day['dt'][0]\n",
    "            \n",
    "            if self._schedule.loc[self._date].allow == True:\n",
    "                self.rebalance(current_day, reset_prices=self._reset_position_prices)\n",
    "            else:\n",
    "                self.monitor_positions(current_day)\n",
    "                \n",
    "            # update balance\n",
    "            positions = self.position_balance(current_day)\n",
    "            self._equity.loc[self._date, ['dt', 'balance', 'free', 'positions']] = [\n",
    "                self._date, self._cash + positions, self._cash, positions]\n",
    "\n",
    "    def monitor_positions(self, day):\n",
    "        \"\"\"\n",
    "        Контроль открытых позиций\n",
    "        \"\"\"\n",
    "        positions = self._positions\n",
    "        if not len(positions.index) or self._stop_loss is None:\n",
    "            return None\n",
    "        \n",
    "        df = positions.merge(day[['dt', 'low', 'close']], how='inner', left_index=True, right_index=True)\n",
    "        fltr = df.price * (1 - self._stop_loss) >= df.low\n",
    "        if len(df[fltr]):\n",
    "            for symbol, row in df[fltr].iterrows():\n",
    "                self.trade(row['dt'], symbol, -row.quantity, row.low, 'C', note='STOP')\n",
    "    \n",
    "    def position_balance(self, day):\n",
    "        \"\"\"\n",
    "        Рыночная стоимость открытых позиций\n",
    "        \"\"\"\n",
    "        positions = self._positions\n",
    "        if not len(positions.index):\n",
    "            return 0\n",
    "        \n",
    "        df = positions.merge(day[['open', 'close']], how='inner', left_index=True, right_index=True)\n",
    "        df['current_value'] = df['quantity'] * df['open']\n",
    "        \n",
    "        return df['current_value'].sum()\n",
    "\n",
    "    def title(self):\n",
    "        name = 'Portfolio'\n",
    "        return f\"{name}\"\n",
    "\n",
    "    def results(self):\n",
    "        if not len(self._trades):\n",
    "            return {}\n",
    "\n",
    "        # benchmark performance\n",
    "        benchmark = self.params.get('benchmark', 'SPY')\n",
    "        benchmark_closes = self._prices.loc[\n",
    "            (slice(None), [benchmark]), ['dt', 'close']].set_index('dt').loc[\n",
    "            slice(self._equity.dt.min(), None)]        \n",
    "\n",
    "        # effective performance without deposits\n",
    "        effective = performance(self._equity['balance'])\n",
    "        \n",
    "        # CAGR\n",
    "        total_years = (effective.index.max().date() - effective.index.min().date()).days / 365\n",
    "        cagr = rate_for_period(effective[-1], total_years)\n",
    "        \n",
    "        results = {\n",
    "            'days': (self._equity.dt.max() - self._equity.dt.min()).days,\n",
    "            'balance': self._equity.balance.iloc[-1],\n",
    "            'CAGR, %': cagr * 100,\n",
    "            'effective, %': effective[-1] * 100,\n",
    "            'performance, %': performance(self._equity['balance']).iloc[-1] * 100,\n",
    "            'drawdown, %': drawdown(self._equity['balance']).min() * 100,\n",
    "            'benchmark perf, %': performance(benchmark_closes.close).iloc[-1] * 100,\n",
    "            'benchmark dd, %': drawdown(benchmark_closes.close).min() * 100,\n",
    "        }\n",
    "        return results\n",
    "\n",
    "    def print_results(self):\n",
    "        results = self.results()\n",
    "        results = pd.DataFrame([results], columns=results.keys())\n",
    "\n",
    "        print(f'=== {self.title()} ===')\n",
    "        print(results)\n",
    "\n",
    "        return True\n",
    "\n",
    "    def charts(self):\n",
    "        if not len(self._equity):\n",
    "            print('Error: the equity is empty.')\n",
    "            return\n",
    "\n",
    "        equity = self._equity\n",
    "        \n",
    "        fig = plt.figure(figsize=(15, 3), facecolor='white')\n",
    "\n",
    "        ax_perf = fig.add_subplot(121)\n",
    "        ax_dd = fig.add_subplot(122)\n",
    "\n",
    "        # equity performance\n",
    "        performance(equity['balance']).plot(ax=ax_perf, legend=True)\n",
    "        \n",
    "        # benchmark performance\n",
    "        benchmark = self.params.get('benchmark', 'SPY')\n",
    "        index_closes = self._prices.loc[(slice(None), [benchmark]), ['dt', 'close']].set_index('dt')\n",
    "        benchmark_plot = performance(index_closes.loc[slice(self._equity.dt.min(), None)].close).rename(benchmark)\n",
    "        benchmark_plot.plot(ax=ax_perf, legend=True, color='k', linewidth=0.7)\n",
    "        # equity drawdown\n",
    "        drawdown(index_closes.loc[slice(self._equity.dt.min(), None)].close).rename(benchmark).plot(ax=ax_dd, legend=True, color='k', linestyle='--', linewidth=0.5)\n",
    "        drawdown(equity['balance']).plot(ax=ax_dd, legend=True, linewidth=0.7)\n",
    "\n",
    "        ax_perf.axhline(0, color='k', linestyle='--', lw=0.5)\n",
    "        ax_dd.axhline(0, color='k', linestyle='--', lw=0.5)\n",
    "\n",
    "        fig.suptitle(self.title())\n",
    "\n",
    "        plt.show()\n"
   ]
  },
  {
   "cell_type": "markdown",
   "metadata": {},
   "source": [
    "# Тестирование портфелей\n",
    "\n",
    "1. Активы и доли перечисляются в словаре `portfolio`:\n",
    " * Тикер: Доля\n",
    "\n",
    "2. День ребалансировки `rebalance_day` внутри периода:\n",
    " * \\>= 0 - слева\n",
    " * < 0 - справа\n",
    "\n",
    "3. Ребалансировка `freq` возможна: `week`, `month`, `year`\n",
    "4. Закрытие позиции по стопу `stop_loss` и обнуление цен закупке на ребалансировке `reset_position_prices`.\n",
    "5. Дата `start` начала теста."
   ]
  },
  {
   "cell_type": "code",
   "execution_count": 7,
   "metadata": {},
   "outputs": [
    {
     "name": "stdout",
     "output_type": "stream",
     "text": [
      "['MINT', 'TSLA'] Total (2): 100.00%\n"
     ]
    }
   ],
   "source": [
    "portfolio = {'MINT': 0.9, 'TSLA': 0.1,}\n",
    "#portfolio = {'MINT': 0.9, 'AAPL': 0.1,}\n",
    "#portfolio = {'MINT': 0.9, 'MSFT': 0.1,}\n",
    "#portfolio = {'BIL': 0.9, 'TSLA': 0.1,}\n",
    "#portfolio = {'BIL': 0.9, 'AAPL': 0.1,}\n",
    "\n",
    "total = sum([v for k, v in portfolio.items()])\n",
    "SYMBOLS = list(portfolio.keys())\n",
    "print(SYMBOLS, f'Total ({len(portfolio)}): {total * 100:.2f}%')"
   ]
  },
  {
   "cell_type": "code",
   "execution_count": 8,
   "metadata": {},
   "outputs": [],
   "source": [
    "params = {\n",
    "    'benchmark': 'SPY',\n",
    "    'balance': 100_000,\n",
    "    'portfolio': portfolio,\n",
    "    'rebalance_day': -1,\n",
    "    'freq': 'year',\n",
    "    'stop_loss': 0.1,\n",
    "    'reset_position_prices': True,\n",
    "    'allow_method': allow_default,\n",
    "    'start': pd.to_datetime('2011-01-01'),\n",
    "}\n",
    "pm = StructuredProductMill(params, prices=prices(SYMBOLS + [params['benchmark']]), show_progress=True)\n",
    "pm.check_params().prepare()"
   ]
  },
  {
   "cell_type": "code",
   "execution_count": 9,
   "metadata": {
    "scrolled": true
   },
   "outputs": [
    {
     "name": "stderr",
     "output_type": "stream",
     "text": [
      "100%|██████████| 2155/2155 [00:11<00:00, 186.63it/s]"
     ]
    },
    {
     "name": "stdout",
     "output_type": "stream",
     "text": [
      "=== Portfolio ===\n",
      "   days        balance   CAGR, %  effective, %  performance, %  drawdown, %  \\\n",
      "0  3126  154842.740038  5.238393     54.849011       54.849011   -15.038052   \n",
      "\n",
      "   benchmark perf, %  benchmark dd, %  \n",
      "0         182.103375       -19.338755  \n"
     ]
    },
    {
     "name": "stderr",
     "output_type": "stream",
     "text": [
      "\n"
     ]
    }
   ],
   "source": [
    "pm.run()\n",
    "pm.print_results();"
   ]
  },
  {
   "cell_type": "code",
   "execution_count": 10,
   "metadata": {},
   "outputs": [
    {
     "data": {
      "image/png": "[encoded data removed]",
      "text/plain": [
       "<Figure size 1080x216 with 2 Axes>"
      ]
     },
     "metadata": {},
     "output_type": "display_data"
    }
   ],
   "source": [
    "pm.charts()"
   ]
  },
  {
   "cell_type": "markdown",
   "metadata": {},
   "source": [
    "# Ежегодный баланс\n",
    "\n",
    "Рисование ехегодного для наглядности."
   ]
  },
  {
   "cell_type": "code",
   "execution_count": 11,
   "metadata": {},
   "outputs": [
    {
     "data": {
      "image/png": "[encoded data removed]",
      "text/plain": [
       "<Figure size 1080x216 with 2 Axes>"
      ]
     },
     "metadata": {},
     "output_type": "display_data"
    }
   ],
   "source": [
    "# aggregate columns\n",
    "agg_rules = {\n",
    "    'dt': 'last', 'balance': 'last',\n",
    "}\n",
    "\n",
    "# group by years\n",
    "periodically = pm._equity.groupby(pd.Grouper(freq='Y')).agg(agg_rules).set_index(['dt'], drop=False)\n",
    "periodically['performance'] = performance(periodically['balance'])\n",
    "periodically['drawdown'] = drawdown(periodically['balance'])\n",
    "\n",
    "# draw charts\n",
    "fig = plt.figure(figsize=(15, 3), facecolor='white')\n",
    "ax_perf = fig.add_subplot(121)\n",
    "ax_dd = fig.add_subplot(122)\n",
    "performance(periodically['balance']).rename('Performance').plot(ax=ax_perf, legend=True)\n",
    "drawdown(periodically['balance']).rename('Drawdown').plot(ax=ax_dd, legend=True, linewidth=0.7);\n",
    "\n",
    "#periodically"
   ]
  },
  {
   "cell_type": "code",
   "execution_count": null,
   "metadata": {},
   "outputs": [],
   "source": []
  }
 ],
 "metadata": {
  "kernelspec": {
   "display_name": "Python 3",
   "language": "python",
   "name": "python3"
  },
  "language_info": {
   "codemirror_mode": {
    "name": "ipython",
    "version": 3
   },
   "file_extension": ".py",
   "mimetype": "text/x-python",
   "name": "python",
   "nbconvert_exporter": "python",
   "pygments_lexer": "ipython3",
   "version": "3.7.3"
  }
 },
 "nbformat": 4,
 "nbformat_minor": 2
}
